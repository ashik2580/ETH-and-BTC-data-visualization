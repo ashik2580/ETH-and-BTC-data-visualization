{
  "nbformat": 4,
  "nbformat_minor": 0,
  "metadata": {
    "colab": {
      "name": "sp5_project.ipynb",
      "provenance": [],
      "collapsed_sections": []
    },
    "kernelspec": {
      "name": "python3",
      "display_name": "Python 3"
    },
    "language_info": {
      "name": "python"
    }
  },
  "cells": [
    {
      "cell_type": "code",
      "metadata": {
        "id": "3KnOMa8R6QdS"
      },
      "source": [
        "import pandas as pd\n",
        "import matplotlib.pyplot as plt\n",
        "import numpy as np"
      ],
      "execution_count": 249,
      "outputs": []
    },
    {
      "cell_type": "code",
      "metadata": {
        "id": "a9qlPr6m6owM"
      },
      "source": [
        "eth = pd.read_csv(\"/content/drive/MyDrive/SP5_dataset/Eherium.csv\")\n",
        "btc = pd.read_csv(\"/content/drive/MyDrive/SP5_dataset/bitcoin_csv (1).csv\")\n",
        "all_crypto = pd.read_csv(\"/content/drive/MyDrive/SP5_dataset/all crypto.txt\")\n",
        "bouth = pd.read_csv(\"/content/drive/MyDrive/SP5_dataset/ETH_bouth.csv\")"
      ],
      "execution_count": 250,
      "outputs": []
    },
    {
      "cell_type": "code",
      "metadata": {
        "id": "npnyKgHqHnAv"
      },
      "source": [
        "#crypto's domination without bitcoin\n",
        "\n",
        "#all_crypto.drop(0,axis=0,inplace=True)\n",
        "#all_crypto.plot(kind='barh',x='Coin',y='capt',figsize=(12,6))\n",
        "plt.rcParams['text.color'] = 'black'\n",
        "\n",
        "\n",
        "labels = all_crypto['Coin']\n",
        "sizes =  all_crypto['capt'] \n",
        "\n",
        "labels= [labels[1],labels[2],labels[3],labels[4]]\n",
        "sizes = [sizes[1],sizes[2],sizes[3],sizes[4]]\n",
        "\n",
        "explode = (0.1, 0, 0, 0)  # only \"explode\" the 1st slice Etherium\n",
        "\n",
        "\n",
        "fig1, ax1 = plt.subplots(figsize=(24.5,10))\n",
        "fig1.set_facecolor('silver')\n",
        "ax1.pie(sizes, explode=explode, labels=labels, autopct='%1.1f%%',shadow=True, startangle=90,radius=1)\n",
        "ax1.axis('equal')  # Equal aspect ratio ensures that pie is drawn as a circle.\n",
        "\n",
        "\n",
        "plt.show()"
      ],
      "execution_count": null,
      "outputs": []
    },
    {
      "cell_type": "code",
      "metadata": {
        "id": "eLe6m10ZDHzk"
      },
      "source": [
        "eth['date']=eth['date'].replace('12/12/2013','')"
      ],
      "execution_count": 52,
      "outputs": []
    },
    {
      "cell_type": "code",
      "metadata": {
        "id": "9_jkVNlJ8P9b"
      },
      "source": [
        "eth.head(10)"
      ],
      "execution_count": null,
      "outputs": []
    },
    {
      "cell_type": "code",
      "metadata": {
        "id": "AXTG1NRCiI0B"
      },
      "source": [
        "plt.rcParams['text.color'] = 'white'\n",
        "plt.rcParams['axes.labelcolor'] = 'white'\n",
        "plt.rcParams['xtick.color'] = 'white'\n",
        "plt.rcParams['ytick.color'] = 'white'\n",
        "\n",
        "cnt=1\n",
        "print(\"A random date: \",eth['date'][1])\n",
        "\n",
        "total_year=[]\n",
        "\n",
        "for i in range(row_size-1):\n",
        "  l1=len(eth['date'][i])-1\n",
        "  l2=len(eth['date'][i+1])-1\n",
        "  if eth['date'][i][l1]!=eth['date'][i+1][l2]:\n",
        "    cnt+=1\n",
        "    print(eth['date'][i][-4:])\n",
        "    total_year.append(eth['date'][i][-4:])\n",
        "\n",
        "print(eth['date'][1101][-4:])\n",
        "total_year.append(eth['date'][1101][-4:])\n",
        "\n",
        "\n",
        "print(total_year)\n",
        "\n",
        "\n",
        "\n",
        "median_txcount=[]\n",
        "median_payment_count=[]\n",
        "median_generatedCoins=[]\n",
        "median_activateaddress=[]\n",
        "\n",
        "\n",
        "\n",
        "m_t=0\n",
        "m_t_c=0\n",
        "m_p=0\n",
        "m_p_c=0\n",
        "m_g=0\n",
        "m_a=0\n",
        "\n",
        "for i in range(row_size-1):\n",
        "  l1=len(eth['date'][i])-1\n",
        "  l2=len(eth['date'][i+1])-1\n",
        "\n",
        "\n",
        "  if eth['date'][i][l1]!=eth['date'][i+1][l2]:\n",
        "\n",
        "    median_txcount.append(m_t/m_t_c)\n",
        "    median_payment_count.append(m_p/m_p_c)\n",
        "    median_generatedCoins.append(m_g/m_t_c)\n",
        "    median_activateaddress.append(m_a/m_t_c)\n",
        "\n",
        "\n",
        "    m_t=0\n",
        "    m_t_c=0\n",
        "    m_p=0 \n",
        "    m_p_c=0\n",
        "\n",
        "\n",
        "  else:\n",
        "    m_t+=eth['txCount'][i]\n",
        "    m_t_c+=1\n",
        "    m_p+=eth['paymentCount'][i]\n",
        "    m_p_c+=1\n",
        "    m_g+=eth['generatedCoins'][i]\n",
        "    m_a+=eth['activeAddresses'][i]\n",
        "\n",
        "\n",
        "median_txcount.append(m_t/m_t_c)\n",
        "median_payment_count.append(m_p/m_p_c)\n",
        "median_generatedCoins.append(m_g/m_t_c)\n",
        "median_activateaddress.append(m_a/m_t_c)\n",
        "\n",
        "\n",
        "\n",
        "print(median_payment_count,median_txcount,median_generatedCoins,median_activateaddress)\n",
        "\n",
        "print(total_year)\n",
        "\n",
        "\n",
        "\n",
        "\n",
        "\n",
        "PTGA=[median_payment_count,median_txcount,median_generatedCoins,median_activateaddress]\n",
        "\n",
        "i=0\n",
        "\n",
        "fig = plt.figure(figsize=(22,10))\n",
        "ax = fig.add_subplot(projection='3d',title='median_payment_count(0) median_txcount(1) median_generatedCoins(2) median_activateaddress(3)')\n",
        "\n",
        "colors = ['LIME', 'limegreen', 'green', 'darkgreen']\n",
        "yticks = [0,1,2,3]\n",
        "for c, k in zip(colors, yticks):\n",
        "    xs = total_year\n",
        "    ys = PTGA[i]\n",
        "    i+=1\n",
        "\n",
        "    cs = [c] * len(xs)\n",
        "    cs[0] = 'green'\n",
        "\n",
        "    ax.bar(xs, ys, zs=k, zdir='y', color=cs, alpha=0.8)\n",
        "\n",
        "ax.set_xlabel('')\n",
        "ax.set_ylabel('')\n",
        "ax.set_zlabel('')\n",
        "\n",
        "ax.set_facecolor('gray')\n",
        "\n",
        "ax.set_yticks(yticks)\n",
        "\n",
        "plt.show()"
      ],
      "execution_count": null,
      "outputs": []
    },
    {
      "cell_type": "code",
      "metadata": {
        "id": "QPFoAz2b70r0"
      },
      "source": [
        "#Etherium price time series\n",
        "plt.rcParams['text.color'] = 'black'\n",
        "plt.rcParams['axes.labelcolor'] = 'black'\n",
        "plt.rcParams['xtick.color'] = 'black'\n",
        "plt.rcParams['ytick.color'] = 'black'\n",
        "\n",
        "eth.plot(kind='line',x='date',y='price(USD)',figsize=(24,10),title='Etherium price time series',color='yellow')\n",
        "ax=plt.axes()\n",
        "ax.set_facecolor('darkcyan')\n",
        "ax.grid(False)"
      ],
      "execution_count": null,
      "outputs": []
    },
    {
      "cell_type": "code",
      "metadata": {
        "id": "jXouH5gDBky0"
      },
      "source": [
        "#bitcoin price time series\n",
        "btc.plot(kind='line',x='date',y='price(USD)',figsize=(24,10),title='Etherium price time series',color='white')\n",
        "ax=plt.axes()\n",
        "ax.set_facecolor('darkslategray')\n",
        "ax.grid(False)"
      ],
      "execution_count": null,
      "outputs": []
    },
    {
      "cell_type": "code",
      "metadata": {
        "id": "7WLAa79OCbcS"
      },
      "source": [
        "#Etherium supported contries\n",
        "bouth.plot(kind='barh',x='Country',y='Bouth',figsize=(22,8),title='Top 10 supported countries and bouth count',color='gainsboro')\n",
        "ax=plt.axes()\n",
        "ax.set_facecolor('maroon')\n",
        "ax.grid(False)\n"
      ],
      "execution_count": null,
      "outputs": []
    },
    {
      "cell_type": "code",
      "metadata": {
        "id": "00U2gFqnSDMJ"
      },
      "source": [
        "#"
      ],
      "execution_count": null,
      "outputs": []
    }
  ]
}